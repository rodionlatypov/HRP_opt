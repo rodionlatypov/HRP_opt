{
 "cells": [
  {
   "cell_type": "code",
   "execution_count": 1,
   "id": "fab1e06f",
   "metadata": {},
   "outputs": [],
   "source": [
    "import collections\n",
    "import numpy as np\n",
    "import pandas as pd\n",
    "import scipy.cluster.hierarchy as sch\n",
    "import scipy.spatial.distance as ssd\n",
    "import matplotlib.pyplot as plt\n",
    "import warnings\n",
    "from pypfopt import EfficientFrontier\n",
    "import seaborn as sns\n",
    "%matplotlib inline\n",
    "from tqdm import tqdm\n",
    "from collections import defaultdict"
   ]
  },
  {
   "cell_type": "code",
   "execution_count": 2,
   "id": "f019dc56",
   "metadata": {},
   "outputs": [],
   "source": [
    "class HRPRegOpt():\n",
    "    def __init__(self, returns=None, cov_matrix=None):\n",
    "        if returns is None and cov_matrix is None:\n",
    "            raise ValueError('Returns or cov_matrix should be provided')\n",
    "        \n",
    "        self.returns = returns\n",
    "        if cov_matrix is None:\n",
    "            self.cov_matrix = self.returns.cov()\n",
    "        else:\n",
    "            self.cov_matrix = cov_matrix\n",
    "        self.clusters = None\n",
    "        self.tickers = list(returns.columns)\n",
    "        self.num_assets = len(self.tickers)\n",
    "        \n",
    "    \n",
    "    @staticmethod\n",
    "    def _get_cluster_var(cov, cluster_items):\n",
    "        cov_slice = cov.loc[cluster_items, cluster_items]\n",
    "        weights = 1 / np.diag(cov_slice)\n",
    "        weights /= weights.sum()\n",
    "        return np.linalg.multi_dot((weights, cov_slice, weights))\n",
    "\n",
    "    \n",
    "    @staticmethod\n",
    "    def _raw_hrp_allocation(cov, root_node):\n",
    "        \"\"\"\n",
    "        Given the clusters, compute the portfolio that minimises risk by\n",
    "        recursively traversing the hierarchical tree from the top\n",
    "        \"\"\"\n",
    "        ordered_tickers = cov.index[root_node.pre_order()].tolist()\n",
    "        \n",
    "        w = pd.Series(1, index=ordered_tickers)\n",
    "        cluster_items = [ordered_tickers]  # initialize all items in one cluster\n",
    "\n",
    "        while len(cluster_items) > 0:\n",
    "            cluster_items = [\n",
    "                i[j:k]\n",
    "                for i in cluster_items\n",
    "                for j, k in ((0, len(i) // 2), (len(i) // 2, len(i)))\n",
    "                if len(i) > 1\n",
    "            ]  # bi-section\n",
    "            # For each pair, optimize locally\n",
    "            for i in range(0, len(cluster_items), 2):\n",
    "                first_cluster = cluster_items[i]\n",
    "                second_cluster = cluster_items[i + 1]\n",
    "                # Form the inverse variance portfolio for this pair\n",
    "                first_variance = HRPRegOpt._get_cluster_var(cov, first_cluster)\n",
    "                second_variance = HRPRegOpt._get_cluster_var(cov, second_cluster)\n",
    "                alpha = 1 - first_variance / (first_variance + second_variance)\n",
    "                w[first_cluster] *= alpha  # weight 1\n",
    "                w[second_cluster] *= 1 - alpha  # weight 2\n",
    "        return w\n",
    "\n",
    "    \n",
    "    @staticmethod\n",
    "    def _hrp_allocation(cov, root_node):\n",
    "        def _recursive_hrp_allocation(cov, root_node):\n",
    "            if root_node.is_leaf():\n",
    "                return\n",
    "            \n",
    "            first_node = root_node.get_left()\n",
    "            second_node = root_node.get_right()\n",
    "            first_cluster = cov.index[first_node.pre_order()].tolist()\n",
    "            second_cluster = cov.index[second_node.pre_order()].tolist()\n",
    "            # Form the inverse variance portfolio for this pair\n",
    "            first_variance = HRPRegOpt._get_cluster_var(cov, first_cluster)\n",
    "            second_variance = HRPRegOpt._get_cluster_var(cov, second_cluster)\n",
    "            \n",
    "            alpha = 1 - first_variance / (first_variance + second_variance)\n",
    "            \n",
    "            w[first_cluster] *= alpha\n",
    "            w[second_cluster] *= 1 - alpha\n",
    "            _recursive_hrp_allocation(cov, first_node)\n",
    "            _recursive_hrp_allocation(cov, second_node)\n",
    "            \n",
    "        ordered_tickers = cov.index[root_node.pre_order()].tolist()\n",
    "        \n",
    "        w = pd.Series(1, index=ordered_tickers)\n",
    "        _recursive_hrp_allocation(cov, root_node)\n",
    "        return w\n",
    "\n",
    "    \n",
    "    @staticmethod\n",
    "    def _get_reg_clusters(cov, root_node, lambda_reg=0.0):\n",
    "        def _recursive_clustering(cov, root_node):\n",
    "            if root_node.is_leaf():\n",
    "                reg_clusters.append(root_node)\n",
    "                return\n",
    "            \n",
    "            cluster = cov.index[root_node.pre_order()].tolist()\n",
    "            cluster_variance = hrp_opt._get_cluster_var(cov, cluster)\n",
    "        \n",
    "            first_node = root_node.get_left()\n",
    "            second_node = root_node.get_right()\n",
    "            first_cluster = cov.index[first_node.pre_order()].tolist()\n",
    "            second_cluster = cov.index[second_node.pre_order()].tolist()\n",
    "            \n",
    "            first_variance = hrp_opt._get_cluster_var(cov, first_cluster)\n",
    "            second_variance = hrp_opt._get_cluster_var(cov, second_cluster)\n",
    "            alpha = 1 - first_variance / (first_variance + second_variance)            \n",
    "            subclusters_variance = alpha ** 2 * first_variance + (1 - alpha) ** 2 * second_variance\n",
    "        \n",
    "            if subclusters_variance / cluster_variance >= lambda_reg:\n",
    "                _recursive_clustering(cov, first_node)\n",
    "                _recursive_clustering(cov, second_node)\n",
    "            else:\n",
    "                reg_clusters.append(root_node)\n",
    "                return\n",
    "        \n",
    "        reg_clusters = []\n",
    "        ordered_tickers = cov.index[root_node.pre_order()].tolist()\n",
    "        _recursive_clustering(cov, root_node)\n",
    "        return reg_clusters\n",
    "    \n",
    "    \n",
    "    @staticmethod\n",
    "    def _cov_to_corr(cov_matrix):\n",
    "        \"\"\"\n",
    "        Convert a covariance matrix to a correlation matrix\n",
    "        \"\"\"\n",
    "        if not isinstance(cov_matrix, pd.DataFrame):\n",
    "            warnings.warn('Covariance matrix is not a dataframe', RuntimeWarning)\n",
    "            cov_matrix = pd.DataFrame(cov_matrix)\n",
    "            \n",
    "        Dinv = np.diag(1 / np.sqrt(np.diag(cov_matrix)))\n",
    "        corr = np.dot(Dinv, np.dot(cov_matrix, Dinv))\n",
    "        return pd.DataFrame(corr, index=cov_matrix.index, columns=cov_matrix.index)\n",
    "    \n",
    "    \n",
    "    def plot_dendrogram(self, show_tickers=True):\n",
    "        \"\"\"\n",
    "        Plot the clusters in the form of a dendrogram\n",
    "        \"\"\"\n",
    "        ax = plt.gca()\n",
    "        fig = plt.gcf()\n",
    "        \n",
    "        if self.clusters is None:\n",
    "            warnings.warn(\n",
    "                'Should do optimisation first',\n",
    "                RuntimeWarning,\n",
    "            )\n",
    "            self.optimize()\n",
    "        \n",
    "        if show_tickers:\n",
    "            sch.dendrogram(self.clusters, labels=self.tickers, ax=ax)\n",
    "            ax.tick_params(axis='x', rotation=90)\n",
    "            plt.tight_layout()\n",
    "        else:\n",
    "            sch.dendrogram(self.clusters)\n",
    "        fig.set_size_inches(8, 5)\n",
    "        fig.savefig('hrp_dendrogram.png', bbox_inches='tight', dpi=100)\n",
    "        fig.savefig('hrp_dendrogram.jpg', bbox_inches='tight', dpi=100)\n",
    "    \n",
    "    \n",
    "    @staticmethod\n",
    "    def _get_within_cluster_weights(cov, reg_clusters, hrp_opt_method):\n",
    "        weights = {}\n",
    "        for node in reg_clusters:\n",
    "            cluster_names = cov.columns[node.pre_order()].tolist()\n",
    "            if hrp_opt_method == 'raw':\n",
    "                weights[cluster_names[0] + ': ' + str(len(cluster_names))] = HRPRegOpt._raw_hrp_allocation(cov, node)\n",
    "            if hrp_opt_method == 'exact':\n",
    "                weights[cluster_names[0] + ': ' + str(len(cluster_names))] = HRPRegOpt._hrp_allocation(cov, node)          \n",
    "        return weights\n",
    "    \n",
    "    \n",
    "    @staticmethod\n",
    "    def _get_cluster_returns(returns, within_cluster_weights):\n",
    "        cluster_returns = {}\n",
    "        for c_name in within_cluster_weights.keys():\n",
    "            cluster_returns[c_name] = (returns[within_cluster_weights[c_name].index] * within_cluster_weights[c_name].values).sum(axis=1)\n",
    "        return pd.DataFrame.from_dict(cluster_returns)\n",
    "    \n",
    "    \n",
    "    @staticmethod\n",
    "    def _get_global_weights(within_cluster_weights, global_cluster_weights):\n",
    "        final_asset_weights = {}\n",
    "        for c in global_cluster_weights:\n",
    "            for i in within_cluster_weights[c].keys():\n",
    "                final_asset_weights[i] = global_cluster_weights[c] * within_cluster_weights[c][i]\n",
    "        return final_asset_weights\n",
    "\n",
    "        \n",
    "    def optimize(self, global_opt_params=('min_volatility', None), frequency=252, risk_free_rate=0.0, linkage_method='single', hrp_opt_method='exact', lambda_reg=0.5):\n",
    "        \"\"\"\n",
    "        :param linkage_method: which scipy linkage method to use\n",
    "        :return: weights for the HRP portfolio\n",
    "        \"\"\"\n",
    "        if linkage_method not in sch._LINKAGE_METHODS:\n",
    "            raise ValueError('Linkage method is not recognised')\n",
    "            \n",
    "        if self.returns is None:\n",
    "            cov = self.cov_matrix\n",
    "            corr = self._cov_to_corr(self.cov_matrix)\n",
    "        else:\n",
    "            corr, cov = self.returns.corr(), self.returns.cov()\n",
    "            \n",
    "        # clip to avoid floating point issues    \n",
    "        matrix = np.sqrt(np.clip((1.0 - corr) / 2.0, a_min=0.0, a_max=1.0))\n",
    "        dist = ssd.squareform(matrix, checks=False)\n",
    "        \n",
    "        self.clusters = sch.linkage(dist, linkage_method)\n",
    "        root_node = sch.to_tree(self.clusters, rd=False)\n",
    "        \n",
    "        reg_clusters = self._get_reg_clusters(cov, root_node, lambda_reg)        \n",
    "        within_cluster_weights = self._get_within_cluster_weights(cov, reg_clusters, hrp_opt_method)\n",
    "        cluster_returns = self._get_cluster_returns(self.returns, within_cluster_weights)\n",
    "        \n",
    "        global_opt_method = global_opt_params[0]\n",
    "        global_opt_constraint = global_opt_params[1]\n",
    "        \n",
    "        cluster_mu = cluster_returns.mean() * frequency\n",
    "        cluster_S =  cluster_returns.cov() * frequency\n",
    "        cluster_ef = EfficientFrontier(cluster_mu, cluster_S)\n",
    "        \n",
    "        if global_opt_method == 'min_volatility':\n",
    "            cluster_ef.min_volatility()\n",
    "        if global_opt_method == 'efficient_risk':\n",
    "            target_volatility = global_opt_constraint\n",
    "            cluster_ef.efficient_risk(target_volatility=target_volatility)\n",
    "        if global_opt_method == 'max_sharpe':\n",
    "            cluster_ef.max_sharpe(risk_free_rate=risk_free_rate)\n",
    "            \n",
    "        # cluster_ef.portfolio_performance(verbose=True, risk_free_rate=risk_free_rate)\n",
    "        global_cluster_weights = cluster_ef.clean_weights()\n",
    "        # print(global_cluster_weights)\n",
    "        \n",
    "        final_asset_weights = self._get_global_weights(within_cluster_weights, global_cluster_weights)\n",
    "        final_asset_weights = pd.DataFrame(final_asset_weights, index=['weight'])\n",
    "        # print(final_asset_weights)\n",
    "        # print(global_cluster_weights)\n",
    "        \n",
    "        return final_asset_weights[self.returns.columns]"
   ]
  },
  {
   "cell_type": "code",
   "execution_count": 3,
   "id": "8c7fbb28",
   "metadata": {},
   "outputs": [],
   "source": [
    "def portfolio_performance(returns, weights, frequency=252, risk_free_rate=0.0):\n",
    "    annual_return = 100 * frequency * pd.DataFrame((returns * weights.values).sum(axis=1).values).mean()[0]\n",
    "    annual_volatility = 100 * np.sqrt(frequency * pd.DataFrame((returns * weights.values).sum(axis=1).values).cov())[0][0]\n",
    "    sharpe_ratio = (annual_return - risk_free_rate) / annual_volatility\n",
    "    metrics = {'Annual return': annual_return,\n",
    "               'Annual volatility': annual_volatility,\n",
    "               'Sharpe ratio': sharpe_ratio}\n",
    "    return metrics"
   ]
  },
  {
   "cell_type": "code",
   "execution_count": 4,
   "id": "70112bc1",
   "metadata": {},
   "outputs": [],
   "source": [
    "def hyper_param_opt(hyper_param_opt_init_period,\n",
    "                    hyper_param_opt_eval_period,\n",
    "                    returns,\n",
    "                    global_opt_params=('efficient_risk', 1.0),\n",
    "                    hrp_opt_method='exact',\n",
    "                    linkage_method='single',\n",
    "                    risk_free_rate=0.0,\n",
    "                    frequency=252,\n",
    "                    num_opt_points=25):\n",
    "    metrics = {}\n",
    "    for lambda_reg in np.linspace(0, 1, num_opt_points):\n",
    "        init_returns = returns.iloc[hyper_param_opt_init_period]\n",
    "        hrp_opt = HRPRegOpt(init_returns)\n",
    "        init_weights = hrp_opt.optimize(global_opt_params=global_opt_params,\n",
    "                                        hrp_opt_method=hrp_opt_method,\n",
    "                                        frequency=frequency,\n",
    "                                        risk_free_rate=risk_free_rate,\n",
    "                                        lambda_reg=lambda_reg,\n",
    "                                        linkage_method=linkage_method)\n",
    "        eval_returns = returns.iloc[hyper_param_opt_eval_period]\n",
    "        metrics[lambda_reg] = portfolio_performance(eval_returns,\n",
    "                                                    init_weights,\n",
    "                                                    frequency=frequency,\n",
    "                                                    risk_free_rate=risk_free_rate)\n",
    "    return metrics"
   ]
  },
  {
   "cell_type": "code",
   "execution_count": 12,
   "id": "4136783b",
   "metadata": {},
   "outputs": [],
   "source": [
    "df = pd.read_csv(\"resources/stock_prices.csv\", parse_dates=True, index_col=\"date\")\n",
    "returns = df.pct_change().dropna()\n",
    "hrp_opt = HRPRegOpt(returns)"
   ]
  },
  {
   "cell_type": "code",
   "execution_count": 13,
   "id": "669fa586",
   "metadata": {},
   "outputs": [
    {
     "name": "stderr",
     "output_type": "stream",
     "text": [
      "<ipython-input-9-ff0eb82d0424>:138: RuntimeWarning: Should do optimisation first\n",
      "  warnings.warn(\n"
     ]
    },
    {
     "data": {
      "image/png": "[encoded data removed]",
      "text/plain": [
       "<Figure size 576x360 with 1 Axes>"
      ]
     },
     "metadata": {
      "needs_background": "light"
     },
     "output_type": "display_data"
    }
   ],
   "source": [
    "hrp_opt.plot_dendrogram(show_tickers=True)"
   ]
  },
  {
   "cell_type": "code",
   "execution_count": 14,
   "id": "fc5396f4",
   "metadata": {},
   "outputs": [],
   "source": [
    "num_days = returns.shape[0]\n",
    "hyper_param_opt_init_period = list(range(0, num_days // 2))\n",
    "hyper_param_opt_eval_period = list(range(num_days // 2, num_days))"
   ]
  },
  {
   "cell_type": "code",
   "execution_count": 15,
   "id": "4cdb0e02",
   "metadata": {},
   "outputs": [
    {
     "data": {
      "text/plain": [
       "{0.0: {'Annual return': 20.224854811106937,\n",
       "  'Annual volatility': 14.448568831321937,\n",
       "  'Sharpe ratio': 1.399782569970739},\n",
       " 0.041666666666666664: {'Annual return': 20.224854811106937,\n",
       "  'Annual volatility': 14.448568831321937,\n",
       "  'Sharpe ratio': 1.399782569970739},\n",
       " 0.08333333333333333: {'Annual return': 20.224854811106937,\n",
       "  'Annual volatility': 14.448568831321937,\n",
       "  'Sharpe ratio': 1.399782569970739},\n",
       " 0.125: {'Annual return': 20.224854811106937,\n",
       "  'Annual volatility': 14.448568831321937,\n",
       "  'Sharpe ratio': 1.399782569970739},\n",
       " 0.16666666666666666: {'Annual return': 20.224854811106937,\n",
       "  'Annual volatility': 14.448568831321937,\n",
       "  'Sharpe ratio': 1.399782569970739},\n",
       " 0.20833333333333331: {'Annual return': 20.224854811106937,\n",
       "  'Annual volatility': 14.448568831321937,\n",
       "  'Sharpe ratio': 1.399782569970739},\n",
       " 0.25: {'Annual return': 20.224854811106937,\n",
       "  'Annual volatility': 14.448568831321937,\n",
       "  'Sharpe ratio': 1.399782569970739},\n",
       " 0.29166666666666663: {'Annual return': 20.224854811106937,\n",
       "  'Annual volatility': 14.448568831321937,\n",
       "  'Sharpe ratio': 1.399782569970739},\n",
       " 0.3333333333333333: {'Annual return': 20.224854811106937,\n",
       "  'Annual volatility': 14.448568831321937,\n",
       "  'Sharpe ratio': 1.399782569970739},\n",
       " 0.375: {'Annual return': 20.224854811106937,\n",
       "  'Annual volatility': 14.448568831321937,\n",
       "  'Sharpe ratio': 1.399782569970739},\n",
       " 0.41666666666666663: {'Annual return': 20.224854811106937,\n",
       "  'Annual volatility': 14.448568831321937,\n",
       "  'Sharpe ratio': 1.399782569970739},\n",
       " 0.4583333333333333: {'Annual return': 20.224854811106937,\n",
       "  'Annual volatility': 14.448568831321937,\n",
       "  'Sharpe ratio': 1.399782569970739},\n",
       " 0.5: {'Annual return': 20.224854811106937,\n",
       "  'Annual volatility': 14.448568831321937,\n",
       "  'Sharpe ratio': 1.399782569970739},\n",
       " 0.5416666666666666: {'Annual return': 12.933663046097493,\n",
       "  'Annual volatility': 17.041179755337502,\n",
       "  'Sharpe ratio': 0.7589652378407965},\n",
       " 0.5833333333333333: {'Annual return': 12.933663046097493,\n",
       "  'Annual volatility': 17.041179755337502,\n",
       "  'Sharpe ratio': 0.7589652378407965},\n",
       " 0.625: {'Annual return': 12.933663046097493,\n",
       "  'Annual volatility': 17.041179755337502,\n",
       "  'Sharpe ratio': 0.7589652378407965},\n",
       " 0.6666666666666666: {'Annual return': 12.933663046097493,\n",
       "  'Annual volatility': 17.041179755337502,\n",
       "  'Sharpe ratio': 0.7589652378407965},\n",
       " 0.7083333333333333: {'Annual return': 14.04320874164057,\n",
       "  'Annual volatility': 16.581618834290516,\n",
       "  'Sharpe ratio': 0.8469142176033768},\n",
       " 0.75: {'Annual return': 14.04320874164057,\n",
       "  'Annual volatility': 16.581618834290516,\n",
       "  'Sharpe ratio': 0.8469142176033768},\n",
       " 0.7916666666666666: {'Annual return': 14.04320874164057,\n",
       "  'Annual volatility': 16.581618834290516,\n",
       "  'Sharpe ratio': 0.8469142176033768},\n",
       " 0.8333333333333333: {'Annual return': 25.28413328591996,\n",
       "  'Annual volatility': 16.669386061206044,\n",
       "  'Sharpe ratio': 1.516800510413677},\n",
       " 0.875: {'Annual return': 25.28413328591996,\n",
       "  'Annual volatility': 16.669386061206044,\n",
       "  'Sharpe ratio': 1.516800510413677},\n",
       " 0.9166666666666666: {'Annual return': 25.28413328591996,\n",
       "  'Annual volatility': 16.669386061206044,\n",
       "  'Sharpe ratio': 1.516800510413677},\n",
       " 0.9583333333333333: {'Annual return': 17.219736127384923,\n",
       "  'Annual volatility': 14.549166352944068,\n",
       "  'Sharpe ratio': 1.1835548312292448},\n",
       " 1.0: {'Annual return': 17.219736127384923,\n",
       "  'Annual volatility': 14.549166352944068,\n",
       "  'Sharpe ratio': 1.1835548312292448}}"
      ]
     },
     "execution_count": 15,
     "metadata": {},
     "output_type": "execute_result"
    }
   ],
   "source": [
    "hyper_param_opt(hyper_param_opt_init_period, hyper_param_opt_eval_period, returns, linkage_method='single', global_opt_params=('efficient_risk', 0.2))"
   ]
  },
  {
   "cell_type": "markdown",
   "id": "588c0061",
   "metadata": {},
   "source": [
    "# Experiments with Russian stocks"
   ]
  },
  {
   "cell_type": "code",
   "execution_count": 16,
   "id": "189a657d",
   "metadata": {},
   "outputs": [
    {
     "data": {
      "text/html": [
       "<div>\n",
       "<style scoped>\n",
       "    .dataframe tbody tr th:only-of-type {\n",
       "        vertical-align: middle;\n",
       "    }\n",
       "\n",
       "    .dataframe tbody tr th {\n",
       "        vertical-align: top;\n",
       "    }\n",
       "\n",
       "    .dataframe thead th {\n",
       "        text-align: right;\n",
       "    }\n",
       "</style>\n",
       "<table border=\"1\" class=\"dataframe\">\n",
       "  <thead>\n",
       "    <tr style=\"text-align: right;\">\n",
       "      <th></th>\n",
       "      <th>GAZP RX</th>\n",
       "      <th>LKOH RX</th>\n",
       "      <th>NVTK RX</th>\n",
       "      <th>ROSN RX</th>\n",
       "      <th>SNGS RX</th>\n",
       "      <th>TATN RX</th>\n",
       "      <th>TRNFP RX</th>\n",
       "      <th>ALRS RX</th>\n",
       "      <th>CHMF RX</th>\n",
       "      <th>GMKN RX</th>\n",
       "      <th>...</th>\n",
       "      <th>RTKM RX</th>\n",
       "      <th>VEON US</th>\n",
       "      <th>FEES RX</th>\n",
       "      <th>HYDR RX</th>\n",
       "      <th>IRAO RX</th>\n",
       "      <th>UPRO RX</th>\n",
       "      <th>ENRU RX</th>\n",
       "      <th>LSRG RX</th>\n",
       "      <th>PIKK RX</th>\n",
       "      <th>ETLN LI</th>\n",
       "    </tr>\n",
       "    <tr>\n",
       "      <th>date</th>\n",
       "      <th></th>\n",
       "      <th></th>\n",
       "      <th></th>\n",
       "      <th></th>\n",
       "      <th></th>\n",
       "      <th></th>\n",
       "      <th></th>\n",
       "      <th></th>\n",
       "      <th></th>\n",
       "      <th></th>\n",
       "      <th></th>\n",
       "      <th></th>\n",
       "      <th></th>\n",
       "      <th></th>\n",
       "      <th></th>\n",
       "      <th></th>\n",
       "      <th></th>\n",
       "      <th></th>\n",
       "      <th></th>\n",
       "      <th></th>\n",
       "      <th></th>\n",
       "    </tr>\n",
       "  </thead>\n",
       "  <tbody>\n",
       "    <tr>\n",
       "      <th>2015-03-31</th>\n",
       "      <td>0.013869</td>\n",
       "      <td>0.018065</td>\n",
       "      <td>0.000000</td>\n",
       "      <td>0.018788</td>\n",
       "      <td>-0.016531</td>\n",
       "      <td>0.029043</td>\n",
       "      <td>0.004113</td>\n",
       "      <td>0.009676</td>\n",
       "      <td>0.001522</td>\n",
       "      <td>-0.012441</td>\n",
       "      <td>...</td>\n",
       "      <td>0.006369</td>\n",
       "      <td>-0.012740</td>\n",
       "      <td>0.057464</td>\n",
       "      <td>0.005539</td>\n",
       "      <td>0.052536</td>\n",
       "      <td>0.017241</td>\n",
       "      <td>0.019405</td>\n",
       "      <td>0.001506</td>\n",
       "      <td>0.003640</td>\n",
       "      <td>0.024785</td>\n",
       "    </tr>\n",
       "    <tr>\n",
       "      <th>2015-01-04</th>\n",
       "      <td>0.029518</td>\n",
       "      <td>0.018484</td>\n",
       "      <td>0.042361</td>\n",
       "      <td>0.036486</td>\n",
       "      <td>0.025356</td>\n",
       "      <td>0.045645</td>\n",
       "      <td>0.013735</td>\n",
       "      <td>0.013889</td>\n",
       "      <td>-0.020517</td>\n",
       "      <td>0.013463</td>\n",
       "      <td>...</td>\n",
       "      <td>0.012658</td>\n",
       "      <td>-0.009830</td>\n",
       "      <td>0.032180</td>\n",
       "      <td>0.023742</td>\n",
       "      <td>0.018274</td>\n",
       "      <td>0.000000</td>\n",
       "      <td>0.017766</td>\n",
       "      <td>-0.018045</td>\n",
       "      <td>0.001036</td>\n",
       "      <td>0.024953</td>\n",
       "    </tr>\n",
       "    <tr>\n",
       "      <th>2015-02-04</th>\n",
       "      <td>0.006294</td>\n",
       "      <td>0.009256</td>\n",
       "      <td>0.037531</td>\n",
       "      <td>0.004592</td>\n",
       "      <td>0.028063</td>\n",
       "      <td>0.004665</td>\n",
       "      <td>0.053799</td>\n",
       "      <td>0.008356</td>\n",
       "      <td>-0.002327</td>\n",
       "      <td>-0.042604</td>\n",
       "      <td>...</td>\n",
       "      <td>0.005250</td>\n",
       "      <td>0.004328</td>\n",
       "      <td>0.017647</td>\n",
       "      <td>0.001855</td>\n",
       "      <td>-0.014821</td>\n",
       "      <td>-0.020339</td>\n",
       "      <td>0.038653</td>\n",
       "      <td>0.006126</td>\n",
       "      <td>-0.037267</td>\n",
       "      <td>0.015490</td>\n",
       "    </tr>\n",
       "    <tr>\n",
       "      <th>2015-03-04</th>\n",
       "      <td>0.000278</td>\n",
       "      <td>0.015932</td>\n",
       "      <td>0.019692</td>\n",
       "      <td>0.004380</td>\n",
       "      <td>-0.008378</td>\n",
       "      <td>-0.008292</td>\n",
       "      <td>-0.029549</td>\n",
       "      <td>-0.016302</td>\n",
       "      <td>-0.003033</td>\n",
       "      <td>0.014569</td>\n",
       "      <td>...</td>\n",
       "      <td>0.003482</td>\n",
       "      <td>0.000000</td>\n",
       "      <td>-0.002890</td>\n",
       "      <td>0.031111</td>\n",
       "      <td>0.001450</td>\n",
       "      <td>0.008997</td>\n",
       "      <td>-0.016807</td>\n",
       "      <td>-0.010654</td>\n",
       "      <td>0.037634</td>\n",
       "      <td>0.000000</td>\n",
       "    </tr>\n",
       "    <tr>\n",
       "      <th>2015-06-04</th>\n",
       "      <td>0.012227</td>\n",
       "      <td>-0.000531</td>\n",
       "      <td>0.003359</td>\n",
       "      <td>0.009291</td>\n",
       "      <td>0.017443</td>\n",
       "      <td>0.028261</td>\n",
       "      <td>-0.011389</td>\n",
       "      <td>0.005662</td>\n",
       "      <td>-0.004446</td>\n",
       "      <td>-0.003614</td>\n",
       "      <td>...</td>\n",
       "      <td>0.030855</td>\n",
       "      <td>0.048774</td>\n",
       "      <td>0.033913</td>\n",
       "      <td>0.020295</td>\n",
       "      <td>0.063077</td>\n",
       "      <td>0.039095</td>\n",
       "      <td>0.012210</td>\n",
       "      <td>0.006154</td>\n",
       "      <td>-0.003109</td>\n",
       "      <td>0.000000</td>\n",
       "    </tr>\n",
       "    <tr>\n",
       "      <th>...</th>\n",
       "      <td>...</td>\n",
       "      <td>...</td>\n",
       "      <td>...</td>\n",
       "      <td>...</td>\n",
       "      <td>...</td>\n",
       "      <td>...</td>\n",
       "      <td>...</td>\n",
       "      <td>...</td>\n",
       "      <td>...</td>\n",
       "      <td>...</td>\n",
       "      <td>...</td>\n",
       "      <td>...</td>\n",
       "      <td>...</td>\n",
       "      <td>...</td>\n",
       "      <td>...</td>\n",
       "      <td>...</td>\n",
       "      <td>...</td>\n",
       "      <td>...</td>\n",
       "      <td>...</td>\n",
       "      <td>...</td>\n",
       "      <td>...</td>\n",
       "    </tr>\n",
       "    <tr>\n",
       "      <th>2021-06-12</th>\n",
       "      <td>-0.031858</td>\n",
       "      <td>-0.007873</td>\n",
       "      <td>-0.031742</td>\n",
       "      <td>-0.009694</td>\n",
       "      <td>0.011500</td>\n",
       "      <td>-0.010690</td>\n",
       "      <td>0.006646</td>\n",
       "      <td>-0.016890</td>\n",
       "      <td>-0.006547</td>\n",
       "      <td>-0.007484</td>\n",
       "      <td>...</td>\n",
       "      <td>0.005135</td>\n",
       "      <td>-0.028112</td>\n",
       "      <td>-0.003780</td>\n",
       "      <td>-0.012863</td>\n",
       "      <td>-0.021911</td>\n",
       "      <td>-0.001070</td>\n",
       "      <td>-0.016092</td>\n",
       "      <td>-0.010791</td>\n",
       "      <td>0.001344</td>\n",
       "      <td>0.036496</td>\n",
       "    </tr>\n",
       "    <tr>\n",
       "      <th>2021-07-12</th>\n",
       "      <td>0.021162</td>\n",
       "      <td>0.016930</td>\n",
       "      <td>0.036790</td>\n",
       "      <td>0.029802</td>\n",
       "      <td>0.022481</td>\n",
       "      <td>0.021407</td>\n",
       "      <td>0.003475</td>\n",
       "      <td>0.029544</td>\n",
       "      <td>0.031399</td>\n",
       "      <td>0.006989</td>\n",
       "      <td>...</td>\n",
       "      <td>0.023221</td>\n",
       "      <td>0.037530</td>\n",
       "      <td>-0.020394</td>\n",
       "      <td>0.028211</td>\n",
       "      <td>0.019053</td>\n",
       "      <td>0.007857</td>\n",
       "      <td>0.015888</td>\n",
       "      <td>0.020420</td>\n",
       "      <td>0.000089</td>\n",
       "      <td>-0.002596</td>\n",
       "    </tr>\n",
       "    <tr>\n",
       "      <th>2021-08-12</th>\n",
       "      <td>-0.016025</td>\n",
       "      <td>-0.031141</td>\n",
       "      <td>-0.014287</td>\n",
       "      <td>-0.034202</td>\n",
       "      <td>-0.028304</td>\n",
       "      <td>-0.017964</td>\n",
       "      <td>-0.015235</td>\n",
       "      <td>-0.017935</td>\n",
       "      <td>-0.009647</td>\n",
       "      <td>-0.000639</td>\n",
       "      <td>...</td>\n",
       "      <td>0.008851</td>\n",
       "      <td>-0.024289</td>\n",
       "      <td>0.007988</td>\n",
       "      <td>-0.020120</td>\n",
       "      <td>-0.009632</td>\n",
       "      <td>-0.020198</td>\n",
       "      <td>0.000230</td>\n",
       "      <td>-0.013158</td>\n",
       "      <td>0.028096</td>\n",
       "      <td>-0.007844</td>\n",
       "    </tr>\n",
       "    <tr>\n",
       "      <th>2021-09-12</th>\n",
       "      <td>0.002136</td>\n",
       "      <td>0.014652</td>\n",
       "      <td>-0.004990</td>\n",
       "      <td>0.017750</td>\n",
       "      <td>0.013394</td>\n",
       "      <td>0.003252</td>\n",
       "      <td>0.017932</td>\n",
       "      <td>0.006670</td>\n",
       "      <td>0.008223</td>\n",
       "      <td>0.009778</td>\n",
       "      <td>...</td>\n",
       "      <td>-0.006299</td>\n",
       "      <td>0.002497</td>\n",
       "      <td>-0.000480</td>\n",
       "      <td>-0.012533</td>\n",
       "      <td>0.011899</td>\n",
       "      <td>0.006510</td>\n",
       "      <td>0.000230</td>\n",
       "      <td>0.000000</td>\n",
       "      <td>0.032811</td>\n",
       "      <td>-0.093457</td>\n",
       "    </tr>\n",
       "    <tr>\n",
       "      <th>2021-10-12</th>\n",
       "      <td>-0.007163</td>\n",
       "      <td>0.002117</td>\n",
       "      <td>0.004179</td>\n",
       "      <td>-0.003454</td>\n",
       "      <td>-0.018350</td>\n",
       "      <td>-0.011143</td>\n",
       "      <td>0.048705</td>\n",
       "      <td>-0.016801</td>\n",
       "      <td>0.004642</td>\n",
       "      <td>-0.008507</td>\n",
       "      <td>...</td>\n",
       "      <td>-0.013696</td>\n",
       "      <td>0.000000</td>\n",
       "      <td>0.001081</td>\n",
       "      <td>-0.002025</td>\n",
       "      <td>-0.014473</td>\n",
       "      <td>0.000000</td>\n",
       "      <td>0.001379</td>\n",
       "      <td>0.000556</td>\n",
       "      <td>-0.022499</td>\n",
       "      <td>-0.028906</td>\n",
       "    </tr>\n",
       "  </tbody>\n",
       "</table>\n",
       "<p>1693 rows × 41 columns</p>\n",
       "</div>"
      ],
      "text/plain": [
       "             GAZP RX   LKOH RX   NVTK RX   ROSN RX   SNGS RX   TATN RX  \\\n",
       "date                                                                     \n",
       "2015-03-31  0.013869  0.018065  0.000000  0.018788 -0.016531  0.029043   \n",
       "2015-01-04  0.029518  0.018484  0.042361  0.036486  0.025356  0.045645   \n",
       "2015-02-04  0.006294  0.009256  0.037531  0.004592  0.028063  0.004665   \n",
       "2015-03-04  0.000278  0.015932  0.019692  0.004380 -0.008378 -0.008292   \n",
       "2015-06-04  0.012227 -0.000531  0.003359  0.009291  0.017443  0.028261   \n",
       "...              ...       ...       ...       ...       ...       ...   \n",
       "2021-06-12 -0.031858 -0.007873 -0.031742 -0.009694  0.011500 -0.010690   \n",
       "2021-07-12  0.021162  0.016930  0.036790  0.029802  0.022481  0.021407   \n",
       "2021-08-12 -0.016025 -0.031141 -0.014287 -0.034202 -0.028304 -0.017964   \n",
       "2021-09-12  0.002136  0.014652 -0.004990  0.017750  0.013394  0.003252   \n",
       "2021-10-12 -0.007163  0.002117  0.004179 -0.003454 -0.018350 -0.011143   \n",
       "\n",
       "            TRNFP RX   ALRS RX   CHMF RX   GMKN RX  ...   RTKM RX   VEON US  \\\n",
       "date                                                ...                       \n",
       "2015-03-31  0.004113  0.009676  0.001522 -0.012441  ...  0.006369 -0.012740   \n",
       "2015-01-04  0.013735  0.013889 -0.020517  0.013463  ...  0.012658 -0.009830   \n",
       "2015-02-04  0.053799  0.008356 -0.002327 -0.042604  ...  0.005250  0.004328   \n",
       "2015-03-04 -0.029549 -0.016302 -0.003033  0.014569  ...  0.003482  0.000000   \n",
       "2015-06-04 -0.011389  0.005662 -0.004446 -0.003614  ...  0.030855  0.048774   \n",
       "...              ...       ...       ...       ...  ...       ...       ...   \n",
       "2021-06-12  0.006646 -0.016890 -0.006547 -0.007484  ...  0.005135 -0.028112   \n",
       "2021-07-12  0.003475  0.029544  0.031399  0.006989  ...  0.023221  0.037530   \n",
       "2021-08-12 -0.015235 -0.017935 -0.009647 -0.000639  ...  0.008851 -0.024289   \n",
       "2021-09-12  0.017932  0.006670  0.008223  0.009778  ... -0.006299  0.002497   \n",
       "2021-10-12  0.048705 -0.016801  0.004642 -0.008507  ... -0.013696  0.000000   \n",
       "\n",
       "             FEES RX   HYDR RX   IRAO RX   UPRO RX   ENRU RX   LSRG RX  \\\n",
       "date                                                                     \n",
       "2015-03-31  0.057464  0.005539  0.052536  0.017241  0.019405  0.001506   \n",
       "2015-01-04  0.032180  0.023742  0.018274  0.000000  0.017766 -0.018045   \n",
       "2015-02-04  0.017647  0.001855 -0.014821 -0.020339  0.038653  0.006126   \n",
       "2015-03-04 -0.002890  0.031111  0.001450  0.008997 -0.016807 -0.010654   \n",
       "2015-06-04  0.033913  0.020295  0.063077  0.039095  0.012210  0.006154   \n",
       "...              ...       ...       ...       ...       ...       ...   \n",
       "2021-06-12 -0.003780 -0.012863 -0.021911 -0.001070 -0.016092 -0.010791   \n",
       "2021-07-12 -0.020394  0.028211  0.019053  0.007857  0.015888  0.020420   \n",
       "2021-08-12  0.007988 -0.020120 -0.009632 -0.020198  0.000230 -0.013158   \n",
       "2021-09-12 -0.000480 -0.012533  0.011899  0.006510  0.000230  0.000000   \n",
       "2021-10-12  0.001081 -0.002025 -0.014473  0.000000  0.001379  0.000556   \n",
       "\n",
       "             PIKK RX   ETLN LI  \n",
       "date                            \n",
       "2015-03-31  0.003640  0.024785  \n",
       "2015-01-04  0.001036  0.024953  \n",
       "2015-02-04 -0.037267  0.015490  \n",
       "2015-03-04  0.037634  0.000000  \n",
       "2015-06-04 -0.003109  0.000000  \n",
       "...              ...       ...  \n",
       "2021-06-12  0.001344  0.036496  \n",
       "2021-07-12  0.000089 -0.002596  \n",
       "2021-08-12  0.028096 -0.007844  \n",
       "2021-09-12  0.032811 -0.093457  \n",
       "2021-10-12 -0.022499 -0.028906  \n",
       "\n",
       "[1693 rows x 41 columns]"
      ]
     },
     "execution_count": 16,
     "metadata": {},
     "output_type": "execute_result"
    }
   ],
   "source": [
    "df = pd.read_csv('resources/RTS_prices.csv', parse_dates=True, index_col='date')\n",
    "returns = df.pct_change().dropna()\n",
    "returns"
   ]
  },
  {
   "cell_type": "code",
   "execution_count": 17,
   "id": "997c4159",
   "metadata": {},
   "outputs": [
    {
     "data": {
      "text/plain": [
       "GAZP RX     16.415464\n",
       "LKOH RX     17.601310\n",
       "NVTK RX     24.148566\n",
       "ROSN RX     16.428159\n",
       "SNGS RX      5.486845\n",
       "TATN RX     13.924477\n",
       "TRNFP RX     6.999543\n",
       "ALRS RX     12.568765\n",
       "CHMF RX     16.533062\n",
       "GMKN RX     14.775184\n",
       "MAGN RX     27.398757\n",
       "NLMK RX     19.338192\n",
       "PLZL RX     43.132500\n",
       "POLY RX     19.758255\n",
       "RUAL RX     16.825998\n",
       "EVR LN      32.054662\n",
       "PHOR RX     17.236698\n",
       "AKRN RX     29.899586\n",
       "AFLT RX     13.426877\n",
       "GLPR LI     15.365956\n",
       "GLTR LI     17.176932\n",
       "FIVE LI     18.766074\n",
       "MGNT RX     -5.157568\n",
       "SBER RX     27.755999\n",
       "TCS LI      71.516528\n",
       "VTBR RX     -0.475295\n",
       "MOEX RX     15.295723\n",
       "YNDX RX     31.604321\n",
       "MAIL LI      3.622339\n",
       "QIWI RX     -3.824402\n",
       "MTSS RX      4.698042\n",
       "RTKM RX      3.627225\n",
       "VEON US     -4.886010\n",
       "FEES RX     19.547006\n",
       "HYDR RX      9.178389\n",
       "IRAO RX     25.854964\n",
       "UPRO RX      1.816466\n",
       "ENRU RX      5.037454\n",
       "LSRG RX      4.329972\n",
       "PIKK RX     29.996741\n",
       "ETLN LI      2.919474\n",
       "dtype: float64"
      ]
     },
     "execution_count": 17,
     "metadata": {},
     "output_type": "execute_result"
    }
   ],
   "source": [
    "252 * 100 * returns.mean()"
   ]
  },
  {
   "cell_type": "code",
   "execution_count": 18,
   "id": "c3853cc4",
   "metadata": {},
   "outputs": [
    {
     "data": {
      "text/plain": [
       "<AxesSubplot:xlabel='date'>"
      ]
     },
     "execution_count": 18,
     "metadata": {},
     "output_type": "execute_result"
    },
    {
     "data": {
      "image/png": "[encoded data removed]",
      "text/plain": [
       "<Figure size 432x288 with 1 Axes>"
      ]
     },
     "metadata": {
      "needs_background": "light"
     },
     "output_type": "display_data"
    }
   ],
   "source": [
    "df['MAGN RX'].plot()"
   ]
  },
  {
   "cell_type": "code",
   "execution_count": 19,
   "id": "35a45b01",
   "metadata": {},
   "outputs": [
    {
     "data": {
      "image/png": "[encoded data removed]",
      "text/plain": [
       "<Figure size 576x360 with 1 Axes>"
      ]
     },
     "metadata": {
      "needs_background": "light"
     },
     "output_type": "display_data"
    }
   ],
   "source": [
    "hrp_opt = HRPRegOpt(returns)\n",
    "hrp_opt.optimize(linkage_method='ward')\n",
    "hrp_opt.plot_dendrogram(show_tickers=True)"
   ]
  },
  {
   "cell_type": "code",
   "execution_count": 20,
   "id": "93faa7d9",
   "metadata": {},
   "outputs": [
    {
     "data": {
      "text/plain": [
       "{'Annual return': 29.10971052693752,\n",
       " 'Annual volatility': 15.000046884329423,\n",
       " 'Sharpe ratio': 1.940641302751426}"
      ]
     },
     "execution_count": 20,
     "metadata": {},
     "output_type": "execute_result"
    }
   ],
   "source": [
    "hrp_opt = HRPRegOpt(returns)\n",
    "weights = hrp_opt.optimize(global_opt_params=('efficient_risk', 0.15), linkage_method='single', lambda_reg=0.8)\n",
    "portfolio_performance(returns, weights)"
   ]
  },
  {
   "cell_type": "code",
   "execution_count": 21,
   "id": "d50cd627",
   "metadata": {},
   "outputs": [
    {
     "data": {
      "image/png": "[encoded data removed]",
      "text/plain": [
       "<Figure size 864x720 with 2 Axes>"
      ]
     },
     "metadata": {
      "needs_background": "light"
     },
     "output_type": "display_data"
    }
   ],
   "source": [
    "corr = returns.corr()\n",
    "\n",
    "fig = plt.figure()\n",
    "\n",
    "# plot the heatmap\n",
    "sns.heatmap(corr, \n",
    "        xticklabels=corr,\n",
    "        yticklabels=corr)\n",
    "\n",
    "fig.set_size_inches(12, 10)\n",
    "plt.savefig('corr_heat_map_origin.png')"
   ]
  },
  {
   "cell_type": "code",
   "execution_count": 22,
   "id": "b65f2292",
   "metadata": {},
   "outputs": [],
   "source": [
    "matrix = np.sqrt(np.clip((1.0 - corr) / 2.0, a_min=0.0, a_max=1.0))\n",
    "dist = ssd.squareform(matrix, checks=False)\n",
    "        \n",
    "clusters = sch.linkage(dist, method='single')\n",
    "root_node = sch.to_tree(clusters, rd=False)\n",
    "corr = returns[returns.columns[root_node.pre_order()]].corr()"
   ]
  },
  {
   "cell_type": "code",
   "execution_count": 23,
   "id": "7c60b368",
   "metadata": {},
   "outputs": [
    {
     "data": {
      "image/png": "[encoded data removed]",
      "text/plain": [
       "<Figure size 864x720 with 2 Axes>"
      ]
     },
     "metadata": {
      "needs_background": "light"
     },
     "output_type": "display_data"
    }
   ],
   "source": [
    "fig = plt.figure()\n",
    "\n",
    "sns.heatmap(corr, \n",
    "        xticklabels=corr,\n",
    "        yticklabels=corr)\n",
    "\n",
    "fig.set_size_inches(12, 10)\n",
    "plt.savefig('corr_heat_map_hrp.png')"
   ]
  },
  {
   "cell_type": "markdown",
   "id": "9ad78387",
   "metadata": {},
   "source": [
    "# Evaluate out-of-sample performance and pick optimal regulariser"
   ]
  },
  {
   "cell_type": "code",
   "execution_count": 5,
   "id": "56e679ea",
   "metadata": {},
   "outputs": [],
   "source": [
    "def hyper_param_opt_with_prices(hyper_param_opt_init_period,\n",
    "                    hyper_param_opt_eval_period,\n",
    "                    prices,\n",
    "                    global_opt_params=('efficient_risk', 1.0),\n",
    "                    hrp_opt_method='exact',\n",
    "                    linkage_method='single',\n",
    "                    risk_free_rate=0.0,\n",
    "                    frequency=252,\n",
    "                    num_opt_points=25):\n",
    "    in_sample_metrics = {}\n",
    "    out_of_sample_metrics = {}\n",
    "    for lambda_reg in np.linspace(0, 1, num_opt_points):\n",
    "        init_prices = df.iloc[hyper_param_opt_init_period].dropna(axis=1)\n",
    "        init_returns = init_prices.pct_change().dropna()\n",
    "        eval_prices = df.iloc[hyper_param_opt_eval_period].dropna(axis=1)\n",
    "        eval_returns = eval_prices.pct_change().dropna()\n",
    "        asset_intersect = np.intersect1d(init_returns.columns, eval_returns.columns)\n",
    "        init_returns = init_returns[asset_intersect]\n",
    "        eval_returns = eval_returns[asset_intersect]\n",
    "        \n",
    "        hrp_opt = HRPRegOpt(init_returns)\n",
    "        init_weights = hrp_opt.optimize(global_opt_params=global_opt_params,\n",
    "                                        hrp_opt_method=hrp_opt_method,\n",
    "                                        frequency=frequency,\n",
    "                                        risk_free_rate=risk_free_rate,\n",
    "                                        lambda_reg=lambda_reg,\n",
    "                                        linkage_method=linkage_method)\n",
    "        \n",
    "        in_sample_metrics[lambda_reg] = portfolio_performance(init_returns,\n",
    "                                                    init_weights,\n",
    "                                                    frequency=frequency,\n",
    "                                                    risk_free_rate=risk_free_rate)\n",
    "        \n",
    "        out_of_sample_metrics[lambda_reg] = portfolio_performance(eval_returns,\n",
    "                                                    init_weights,\n",
    "                                                    frequency=frequency,\n",
    "                                                    risk_free_rate=risk_free_rate)\n",
    "    # print(asset_intersect.size)\n",
    "    return (in_sample_metrics, out_of_sample_metrics)"
   ]
  },
  {
   "cell_type": "code",
   "execution_count": 6,
   "id": "546dcc18",
   "metadata": {},
   "outputs": [],
   "source": [
    "np.random.seed(0)"
   ]
  },
  {
   "cell_type": "code",
   "execution_count": 41,
   "id": "955d731a",
   "metadata": {},
   "outputs": [],
   "source": [
    "df = pd.read_csv('resources/RTS_prices.csv', parse_dates=True, index_col=\"date\")\n",
    "num_days = df.shape[0]"
   ]
  },
  {
   "cell_type": "code",
   "execution_count": 42,
   "id": "212a259c",
   "metadata": {},
   "outputs": [],
   "source": [
    "n_split = 5\n",
    "num_iter = 5\n",
    "in_sample_metrics = []\n",
    "out_of_sample_metrics = []"
   ]
  },
  {
   "cell_type": "code",
   "execution_count": 75,
   "id": "eea2d7c1",
   "metadata": {},
   "outputs": [
    {
     "name": "stderr",
     "output_type": "stream",
     "text": [
      "100%|████████████████████████████████████████████████████████████████████████████████████| 5/5 [00:13<00:00,  2.79s/it]\n",
      "100%|████████████████████████████████████████████████████████████████████████████████████| 5/5 [00:17<00:00,  3.41s/it]\n",
      "100%|████████████████████████████████████████████████████████████████████████████████████| 5/5 [00:18<00:00,  3.74s/it]\n",
      "100%|████████████████████████████████████████████████████████████████████████████████████| 5/5 [00:20<00:00,  4.01s/it]\n",
      "100%|████████████████████████████████████████████████████████████████████████████████████| 5/5 [00:16<00:00,  3.28s/it]\n",
      "100%|████████████████████████████████████████████████████████████████████████████████████| 5/5 [00:14<00:00,  2.93s/it]\n",
      "100%|████████████████████████████████████████████████████████████████████████████████████| 5/5 [00:16<00:00,  3.25s/it]\n",
      "100%|████████████████████████████████████████████████████████████████████████████████████| 5/5 [00:19<00:00,  3.86s/it]\n",
      "100%|████████████████████████████████████████████████████████████████████████████████████| 5/5 [00:13<00:00,  2.77s/it]\n",
      "100%|████████████████████████████████████████████████████████████████████████████████████| 5/5 [00:16<00:00,  3.39s/it]\n"
     ]
    }
   ],
   "source": [
    "for vol in np.linspace(0.45, 0.9, 10):\n",
    "    for _ in tqdm(range(num_iter)):\n",
    "        init_start = np.random.choice(range(num_days - 2 * num_days // n_split), size=1)[0]\n",
    "        eval_start = init_start + num_days // n_split\n",
    "        sub_init_per = list(range(init_start, init_start + num_days // n_split))\n",
    "        sub_eval_per = list(range(eval_start, eval_start + num_days // n_split))\n",
    "    \n",
    "        in_sample_metrics_iter, out_of_sample_metrics_iter = hyper_param_opt_with_prices(sub_init_per,\n",
    "                                                                                         sub_eval_per,\n",
    "                                                                                         df,\n",
    "                                                                                         global_opt_params=('efficient_risk', vol),\n",
    "                                                                                         hrp_opt_method='exact',\n",
    "                                                                                         risk_free_rate=0.0,\n",
    "                                                                                         frequency=252,\n",
    "                                                                                         num_opt_points=25)\n",
    "        in_sample_metrics.append(in_sample_metrics_iter)\n",
    "        out_of_sample_metrics.append(out_of_sample_metrics_iter)"
   ]
  },
  {
   "cell_type": "code",
   "execution_count": 96,
   "id": "0e49660a",
   "metadata": {},
   "outputs": [],
   "source": [
    "sharpe_out_of_sample = defaultdict(list)\n",
    "return_out_of_sample = defaultdict(list)\n",
    "volatility_out_of_sample = defaultdict(list)\n",
    "\n",
    "for metrics in out_of_sample_metrics:\n",
    "    for lambda_reg in metrics.keys():\n",
    "        sharpe_out_of_sample[lambda_reg].append(metrics[lambda_reg]['Sharpe ratio'])\n",
    "        return_out_of_sample[lambda_reg].append(metrics[lambda_reg]['Annual return'])\n",
    "        volatility_out_of_sample[lambda_reg].append(metrics[lambda_reg]['Annual volatility'])\n",
    "        \n",
    "sharpe_in_sample = defaultdict(list)\n",
    "return_in_sample = defaultdict(list)\n",
    "volatility_in_sample = defaultdict(list)\n",
    "\n",
    "for metrics in in_sample_metrics:\n",
    "    for lambda_reg in metrics.keys():\n",
    "        sharpe_in_sample[lambda_reg].append(metrics[lambda_reg]['Sharpe ratio'])\n",
    "        return_in_sample[lambda_reg].append(metrics[lambda_reg]['Annual return'])\n",
    "        volatility_in_sample[lambda_reg].append(metrics[lambda_reg]['Annual volatility'])"
   ]
  },
  {
   "cell_type": "code",
   "execution_count": 126,
   "id": "284a2ca6",
   "metadata": {},
   "outputs": [],
   "source": [
    "avg_sharpe_out_of_sample = defaultdict(float)\n",
    "avg_return_out_of_sample = defaultdict(float)\n",
    "avg_volatility_out_of_sample = defaultdict(float)\n",
    "avg_sharpe_in_sample = defaultdict(float)\n",
    "avg_return_in_sample = defaultdict(float)\n",
    "avg_volatility_in_sample = defaultdict(float)\n",
    "\n",
    "for lambda_reg in sharpe_out_of_sample.keys():\n",
    "    avg_sharpe_out_of_sample[round(lambda_reg, 2)] = np.array(sharpe_out_of_sample[lambda_reg]).mean()\n",
    "    avg_sharpe_in_sample[round(lambda_reg, 2)] = np.array(sharpe_in_sample[lambda_reg]).mean()\n",
    "    avg_return_out_of_sample[round(lambda_reg, 2)] = np.array(return_out_of_sample[lambda_reg]).mean()\n",
    "    avg_return_in_sample[round(lambda_reg, 2)] = np.array(return_in_sample[lambda_reg]).mean()\n",
    "    avg_volatility_out_of_sample[round(lambda_reg, 2)] = np.array(volatility_out_of_sample[lambda_reg]).mean()\n",
    "    avg_volatility_in_sample[round(lambda_reg, 2)] = np.array(volatility_in_sample[lambda_reg]).mean()"
   ]
  },
  {
   "cell_type": "code",
   "execution_count": 106,
   "id": "71131bc2",
   "metadata": {},
   "outputs": [
    {
     "data": {
      "text/plain": [
       "defaultdict(float,\n",
       "            {0.0: 0.5302801783911122,\n",
       "             0.04: 0.5302801783911122,\n",
       "             0.08: 0.5302801783911122,\n",
       "             0.12: 0.5302801783911122,\n",
       "             0.17: 0.5302801783911122,\n",
       "             0.21: 0.5302801783911122,\n",
       "             0.25: 0.5302801783911122,\n",
       "             0.29: 0.5302801783911122,\n",
       "             0.33: 0.5302801783911122,\n",
       "             0.38: 0.5302801783911122,\n",
       "             0.42: 0.5302801783911122,\n",
       "             0.46: 0.5302801783911122,\n",
       "             0.5: 0.5857685103824,\n",
       "             0.54: 0.532358229845084,\n",
       "             0.58: 0.5051612260006224,\n",
       "             0.62: 0.39464421256977994,\n",
       "             0.67: 0.4347364791195591,\n",
       "             0.71: 0.6494952237681669,\n",
       "             0.75: 0.7462469748349513,\n",
       "             0.79: 0.8124901339959076,\n",
       "             0.83: 0.8500321444429696,\n",
       "             0.88: 0.8360820021352332,\n",
       "             0.92: 0.8420546020793495,\n",
       "             0.96: 0.8420546020793495,\n",
       "             1.0: 0.8420546020793495})"
      ]
     },
     "execution_count": 106,
     "metadata": {},
     "output_type": "execute_result"
    }
   ],
   "source": [
    "avg_sharpe_out_of_sample"
   ]
  },
  {
   "cell_type": "code",
   "execution_count": 107,
   "id": "3fb66736",
   "metadata": {},
   "outputs": [
    {
     "data": {
      "text/plain": [
       "defaultdict(float,\n",
       "            {0.0: 1.1767870087985024,\n",
       "             0.04: 1.1767870087985024,\n",
       "             0.08: 1.1767870087985024,\n",
       "             0.12: 1.1767870087985024,\n",
       "             0.17: 1.1767870087985024,\n",
       "             0.21: 1.1767870087985024,\n",
       "             0.25: 1.1767870087985024,\n",
       "             0.29: 1.1767870087985024,\n",
       "             0.33: 1.1767870087985024,\n",
       "             0.38: 1.1767870087985024,\n",
       "             0.42: 1.1767870087985024,\n",
       "             0.46: 1.1767870087985024,\n",
       "             0.5: 1.187057326162651,\n",
       "             0.54: 1.151507074561792,\n",
       "             0.58: 1.0889164484573939,\n",
       "             0.62: 1.0052540907950793,\n",
       "             0.67: 0.9701341916470599,\n",
       "             0.71: 0.870808354043842,\n",
       "             0.75: 0.8618322613069404,\n",
       "             0.79: 0.8911481382257038,\n",
       "             0.83: 0.8658950211790828,\n",
       "             0.88: 1.0635182432381265,\n",
       "             0.92: 1.1087508401380395,\n",
       "             0.96: 1.1087508401380395,\n",
       "             1.0: 1.1087508401380395})"
      ]
     },
     "execution_count": 107,
     "metadata": {},
     "output_type": "execute_result"
    }
   ],
   "source": [
    "avg_sharpe_in_sample"
   ]
  },
  {
   "cell_type": "code",
   "execution_count": 108,
   "id": "6f1673c2",
   "metadata": {},
   "outputs": [
    {
     "data": {
      "text/plain": [
       "defaultdict(float,\n",
       "            {0.0: 16.360507028111325,\n",
       "             0.04: 16.360507028111325,\n",
       "             0.08: 16.360507028111325,\n",
       "             0.12: 16.360507028111325,\n",
       "             0.17: 16.360507028111325,\n",
       "             0.21: 16.360507028111325,\n",
       "             0.25: 16.360507028111325,\n",
       "             0.29: 16.360507028111325,\n",
       "             0.33: 16.360507028111325,\n",
       "             0.38: 16.360507028111325,\n",
       "             0.42: 16.360507028111325,\n",
       "             0.46: 16.360507028111325,\n",
       "             0.5: 18.389748546436373,\n",
       "             0.54: 15.447469004501345,\n",
       "             0.58: 14.045143362229581,\n",
       "             0.62: 11.110721110760148,\n",
       "             0.67: 11.485787522759285,\n",
       "             0.71: 16.240921581939702,\n",
       "             0.75: 17.67158210123445,\n",
       "             0.79: 18.289036405868668,\n",
       "             0.83: 19.14852062144548,\n",
       "             0.88: 15.054005133086367,\n",
       "             0.92: 13.137432884979535,\n",
       "             0.96: 13.137432884979535,\n",
       "             1.0: 13.137432884979535})"
      ]
     },
     "execution_count": 108,
     "metadata": {},
     "output_type": "execute_result"
    }
   ],
   "source": [
    "avg_return_out_of_sample"
   ]
  },
  {
   "cell_type": "code",
   "execution_count": 110,
   "id": "e17a0a13",
   "metadata": {},
   "outputs": [
    {
     "data": {
      "text/plain": [
       "defaultdict(float,\n",
       "            {0.0: 47.814049086620464,\n",
       "             0.04: 47.814049086620464,\n",
       "             0.08: 47.814049086620464,\n",
       "             0.12: 47.814049086620464,\n",
       "             0.17: 47.814049086620464,\n",
       "             0.21: 47.814049086620464,\n",
       "             0.25: 47.814049086620464,\n",
       "             0.29: 47.814049086620464,\n",
       "             0.33: 47.814049086620464,\n",
       "             0.38: 47.814049086620464,\n",
       "             0.42: 47.814049086620464,\n",
       "             0.46: 47.814049086620464,\n",
       "             0.5: 47.66837973279791,\n",
       "             0.54: 44.328541262468825,\n",
       "             0.58: 40.49003897615958,\n",
       "             0.62: 37.87291466109005,\n",
       "             0.67: 35.53789852865804,\n",
       "             0.71: 31.623821604658456,\n",
       "             0.75: 30.44500031303362,\n",
       "             0.79: 29.630615726280524,\n",
       "             0.83: 28.095328999569958,\n",
       "             0.88: 23.601398331889637,\n",
       "             0.92: 20.833971646914346,\n",
       "             0.96: 20.833971646914346,\n",
       "             1.0: 20.833971646914346})"
      ]
     },
     "execution_count": 110,
     "metadata": {},
     "output_type": "execute_result"
    }
   ],
   "source": [
    "avg_return_in_sample"
   ]
  },
  {
   "cell_type": "code",
   "execution_count": 111,
   "id": "44bdc4c2",
   "metadata": {},
   "outputs": [
    {
     "data": {
      "text/plain": [
       "defaultdict(float,\n",
       "            {0.0: 32.579068775872685,\n",
       "             0.04: 32.579068775872685,\n",
       "             0.08: 32.579068775872685,\n",
       "             0.12: 32.579068775872685,\n",
       "             0.17: 32.579068775872685,\n",
       "             0.21: 32.579068775872685,\n",
       "             0.25: 32.579068775872685,\n",
       "             0.29: 32.579068775872685,\n",
       "             0.33: 32.579068775872685,\n",
       "             0.38: 32.579068775872685,\n",
       "             0.42: 32.579068775872685,\n",
       "             0.46: 32.579068775872685,\n",
       "             0.5: 32.808594121524166,\n",
       "             0.54: 30.918110928298656,\n",
       "             0.58: 28.904436658080275,\n",
       "             0.62: 29.410844238085392,\n",
       "             0.67: 28.311640938316213,\n",
       "             0.71: 26.61699993891807,\n",
       "             0.75: 25.972789038775105,\n",
       "             0.79: 24.83074307270631,\n",
       "             0.83: 23.540208238974873,\n",
       "             0.88: 19.513833832655575,\n",
       "             0.92: 17.914759834444354,\n",
       "             0.96: 17.914759834444354,\n",
       "             1.0: 17.914759834444354})"
      ]
     },
     "execution_count": 111,
     "metadata": {},
     "output_type": "execute_result"
    }
   ],
   "source": [
    "avg_volatility_out_of_sample"
   ]
  },
  {
   "cell_type": "code",
   "execution_count": 112,
   "id": "2958f3bd",
   "metadata": {},
   "outputs": [
    {
     "data": {
      "text/plain": [
       "defaultdict(float,\n",
       "            {0.0: 41.81205077139215,\n",
       "             0.04: 41.81205077139215,\n",
       "             0.08: 41.81205077139215,\n",
       "             0.12: 41.81205077139215,\n",
       "             0.17: 41.81205077139215,\n",
       "             0.21: 41.81205077139215,\n",
       "             0.25: 41.81205077139215,\n",
       "             0.29: 41.81205077139215,\n",
       "             0.33: 41.81205077139215,\n",
       "             0.38: 41.81205077139215,\n",
       "             0.42: 41.81205077139215,\n",
       "             0.46: 41.81205077139215,\n",
       "             0.5: 41.043499161875395,\n",
       "             0.54: 38.25562535457333,\n",
       "             0.58: 36.49067761783179,\n",
       "             0.62: 38.88375925401725,\n",
       "             0.67: 37.75127484623019,\n",
       "             0.71: 36.38425142071513,\n",
       "             0.75: 35.50029290778258,\n",
       "             0.79: 34.521158997938144,\n",
       "             0.83: 31.80114059242136,\n",
       "             0.88: 25.90989778475729,\n",
       "             0.92: 23.947058228884377,\n",
       "             0.96: 23.947058228884377,\n",
       "             1.0: 23.947058228884377})"
      ]
     },
     "execution_count": 112,
     "metadata": {},
     "output_type": "execute_result"
    }
   ],
   "source": [
    "avg_volatility_in_sample"
   ]
  },
  {
   "cell_type": "code",
   "execution_count": 130,
   "id": "0499f023",
   "metadata": {},
   "outputs": [],
   "source": [
    "avg_sharpe_out_of_sample = defaultdict(float)\n",
    "avg_return_out_of_sample = defaultdict(float)\n",
    "avg_volatility_out_of_sample = defaultdict(float)\n",
    "avg_sharpe_in_sample = defaultdict(float)\n",
    "avg_return_in_sample = defaultdict(float)\n",
    "avg_volatility_in_sample = defaultdict(float)\n",
    "\n",
    "for lambda_reg in sharpe_out_of_sample.keys():\n",
    "    if lambda_reg > 0.4:\n",
    "        avg_sharpe_out_of_sample[round(lambda_reg, 2)] = np.array(sharpe_out_of_sample[lambda_reg]).mean()\n",
    "        avg_sharpe_in_sample[round(lambda_reg, 2)] = np.array(sharpe_in_sample[lambda_reg]).mean()\n",
    "        avg_return_out_of_sample[round(lambda_reg, 2)] = np.array(return_out_of_sample[lambda_reg]).mean()\n",
    "        avg_return_in_sample[round(lambda_reg, 2)] = np.array(return_in_sample[lambda_reg]).mean()\n",
    "        avg_volatility_out_of_sample[round(lambda_reg, 2)] = np.array(volatility_out_of_sample[lambda_reg]).mean()\n",
    "        avg_volatility_in_sample[round(lambda_reg, 2)] = np.array(volatility_in_sample[lambda_reg]).mean()"
   ]
  },
  {
   "cell_type": "code",
   "execution_count": 152,
   "id": "e2dd5dde",
   "metadata": {},
   "outputs": [
    {
     "data": {
      "image/png": "[encoded data removed]",
      "text/plain": [
       "<Figure size 432x288 with 1 Axes>"
      ]
     },
     "metadata": {
      "needs_background": "light"
     },
     "output_type": "display_data"
    },
    {
     "data": {
      "text/plain": [
       "<Figure size 432x288 with 0 Axes>"
      ]
     },
     "metadata": {},
     "output_type": "display_data"
    }
   ],
   "source": [
    "d = {'average in-sample return': avg_return_in_sample,\n",
    "     'average out-of-sample return': avg_return_out_of_sample\n",
    "    }\n",
    "\n",
    "pd.DataFrame(d).plot(kind='bar')\n",
    "fig = plt.gcf()\n",
    "plt.xlabel('lambda-regulariser:\\ntolerance to subclusters variance decay')\n",
    "plt.show()\n",
    "plt.draw()\n",
    "fig.savefig('hrp_return_comparison.png', transparent = False, bbox_inches='tight')\n",
    "fig.savefig('hrp_return_comparison.jpg', transparent = False, bbox_inches='tight')"
   ]
  },
  {
   "cell_type": "code",
   "execution_count": 155,
   "id": "2ba0d741",
   "metadata": {},
   "outputs": [
    {
     "data": {
      "image/png": "[encoded data removed]",
      "text/plain": [
       "<Figure size 432x288 with 1 Axes>"
      ]
     },
     "metadata": {
      "needs_background": "light"
     },
     "output_type": "display_data"
    }
   ],
   "source": [
    "d = {'average in-sample volatility': avg_volatility_in_sample,\n",
    "     'average out-of-sample volatility': avg_volatility_out_of_sample\n",
    "    }\n",
    "\n",
    "pd.DataFrame(d).plot(kind='bar')\n",
    "fig = plt.gcf()\n",
    "plt.xlabel('lambda-regulariser')\n",
    "plt.show()\n",
    "fig.savefig('hrp_volatility_comparison.png', transparent = False, bbox_inches='tight')\n",
    "fig.savefig('hrp_volatility_comparison.jpg', transparent = False, bbox_inches='tight')"
   ]
  },
  {
   "cell_type": "code",
   "execution_count": 156,
   "id": "1981bf83",
   "metadata": {},
   "outputs": [
    {
     "data": {
      "image/png": "[encoded data removed]",
      "text/plain": [
       "<Figure size 432x288 with 1 Axes>"
      ]
     },
     "metadata": {
      "needs_background": "light"
     },
     "output_type": "display_data"
    }
   ],
   "source": [
    "d = {'average in-sample Sharpe-ratio': avg_sharpe_in_sample,\n",
    "     'average out-of-sample Sharpe-ratio': avg_sharpe_out_of_sample\n",
    "    }\n",
    "\n",
    "pd.DataFrame(d).plot(kind='bar')\n",
    "fig = plt.gcf()\n",
    "plt.xlabel('lambda-regulariser')\n",
    "plt.show()\n",
    "fig.savefig('hrp_sharpe_comparison.png', transparent = False, bbox_inches='tight')\n",
    "fig.savefig('hrp_sharpe_comparison.jpg', transparent = False, bbox_inches='tight')"
   ]
  },
  {
   "cell_type": "markdown",
   "id": "4784c7de",
   "metadata": {},
   "source": [
    "# Validation for the changing number of stocks"
   ]
  },
  {
   "cell_type": "code",
   "execution_count": 99,
   "id": "42a9a0c0",
   "metadata": {},
   "outputs": [],
   "source": [
    "def hyper_param_opt_with_prices(hyper_param_opt_init_period,\n",
    "                    hyper_param_opt_eval_period,\n",
    "                    prices,\n",
    "                    global_opt_params=('efficient_risk', 1.0),\n",
    "                    hrp_opt_method='exact',\n",
    "                    linkage_method='single',\n",
    "                    risk_free_rate=0.0,\n",
    "                    frequency=252,\n",
    "                    num_opt_points=25):\n",
    "    in_sample_metrics = {}\n",
    "    out_of_sample_metrics = {}\n",
    "    for lambda_reg in np.linspace(0.4, 1, num_opt_points):\n",
    "        init_prices = df.iloc[hyper_param_opt_init_period].dropna(axis=1)\n",
    "        init_returns = init_prices.pct_change().dropna()\n",
    "        eval_prices = df.iloc[hyper_param_opt_eval_period].dropna(axis=1)\n",
    "        eval_returns = eval_prices.pct_change().dropna()\n",
    "        asset_intersect = np.intersect1d(init_returns.columns, eval_returns.columns)\n",
    "        init_returns = init_returns[asset_intersect]\n",
    "        eval_returns = eval_returns[asset_intersect]\n",
    "        \n",
    "        hrp_opt = HRPRegOpt(init_returns)\n",
    "        init_weights = hrp_opt.optimize(global_opt_params=global_opt_params,\n",
    "                                        hrp_opt_method=hrp_opt_method,\n",
    "                                        frequency=frequency,\n",
    "                                        risk_free_rate=risk_free_rate,\n",
    "                                        lambda_reg=lambda_reg,\n",
    "                                        linkage_method=linkage_method)\n",
    "        \n",
    "        in_sample_metrics[lambda_reg] = portfolio_performance(init_returns,\n",
    "                                                    init_weights,\n",
    "                                                    frequency=frequency,\n",
    "                                                    risk_free_rate=risk_free_rate)\n",
    "        \n",
    "        out_of_sample_metrics[lambda_reg] = portfolio_performance(eval_returns,\n",
    "                                                    init_weights,\n",
    "                                                    frequency=frequency,\n",
    "                                                    risk_free_rate=risk_free_rate)\n",
    "    return (in_sample_metrics, out_of_sample_metrics)"
   ]
  },
  {
   "cell_type": "code",
   "execution_count": 100,
   "id": "787e5cd5",
   "metadata": {},
   "outputs": [],
   "source": [
    "def init_eval_per(n_spit, num_days):\n",
    "    init_start = np.random.choice(range(num_days - 2 * num_days // n_split), size=1)[0]\n",
    "    eval_start = init_start + num_days // n_split\n",
    "    sub_init_per = list(range(init_start, init_start + num_days // n_split))\n",
    "    sub_eval_per = list(range(eval_start, eval_start + num_days // n_split))\n",
    "    return sub_init_per, sub_eval_per"
   ]
  },
  {
   "cell_type": "code",
   "execution_count": 101,
   "id": "ad4858b3",
   "metadata": {},
   "outputs": [
    {
     "data": {
      "text/plain": [
       "4253"
      ]
     },
     "execution_count": 101,
     "metadata": {},
     "output_type": "execute_result"
    }
   ],
   "source": [
    "df = pd.read_csv('resources/RTS_prices.csv', parse_dates=True, index_col=\"date\")\n",
    "df.drop('RTSI', axis=1, inplace=True)\n",
    "num_days = df.shape[0]\n",
    "num_days"
   ]
  },
  {
   "cell_type": "code",
   "execution_count": 102,
   "id": "2f3852b0",
   "metadata": {},
   "outputs": [],
   "source": [
    "returns = df.pct_change().dropna()\n",
    "hrp_opt = HRPRegOpt(returns)"
   ]
  },
  {
   "cell_type": "code",
   "execution_count": 103,
   "id": "9122feb7",
   "metadata": {},
   "outputs": [],
   "source": [
    "num_stocks = len(df.columns)\n",
    "n_split = 10\n",
    "num_iter = 25\n",
    "in_sample_metrics = defaultdict(list)\n",
    "out_of_sample_metrics = defaultdict(list)"
   ]
  },
  {
   "cell_type": "code",
   "execution_count": 105,
   "id": "90acd4f6",
   "metadata": {},
   "outputs": [
    {
     "name": "stderr",
     "output_type": "stream",
     "text": [
      "100%|███████████████████████████████████████████████████████████████████████████████████| 7/7 [32:51<00:00, 281.63s/it]\n"
     ]
    }
   ],
   "source": [
    "for n_stocks in tqdm(np.linspace(5, 25, 7)):\n",
    "    for vol in np.linspace(0.1, 0.3, 10):\n",
    "        for _ in range(num_iter):\n",
    "            sub_init_per, sub_eval_per = init_eval_per(n_split, num_days)\n",
    "            sub_stocks = np.random.choice(df.columns, size=int(n_stocks), replace=False)\n",
    "            try:\n",
    "                in_sample_metrics_iter, out_of_sample_metrics_iter = hyper_param_opt_with_prices(sub_init_per,\n",
    "                                                                                                 sub_eval_per,\n",
    "                                                                                                 df[sub_stocks],\n",
    "                                                                                                 global_opt_params=('efficient_risk', vol),\n",
    "                                                                                                 num_opt_points=20)\n",
    "            except:\n",
    "                pass\n",
    "            in_sample_metrics[int(n_stocks)].append(in_sample_metrics_iter)\n",
    "            out_of_sample_metrics[int(n_stocks)].append(out_of_sample_metrics_iter)"
   ]
  },
  {
   "cell_type": "code",
   "execution_count": 106,
   "id": "bff860bb",
   "metadata": {},
   "outputs": [],
   "source": [
    "sharpe_in_sample = defaultdict(lambda: defaultdict(list))\n",
    "return_in_sample = defaultdict(lambda: defaultdict(list))\n",
    "volatility_in_sample = defaultdict(lambda: defaultdict(list))"
   ]
  },
  {
   "cell_type": "code",
   "execution_count": 107,
   "id": "9ef7dd35",
   "metadata": {},
   "outputs": [],
   "source": [
    "for n_stocks in in_sample_metrics:\n",
    "    for metrics in in_sample_metrics[n_stocks]:\n",
    "        for lambda_reg in metrics:\n",
    "            sharpe_in_sample[n_stocks][lambda_reg].append(metrics[lambda_reg]['Sharpe ratio'])\n",
    "            return_in_sample[n_stocks][lambda_reg].append(metrics[lambda_reg]['Annual return'])\n",
    "            volatility_in_sample[n_stocks][lambda_reg].append(metrics[lambda_reg]['Annual volatility'])"
   ]
  },
  {
   "cell_type": "code",
   "execution_count": 108,
   "id": "56b688d3",
   "metadata": {},
   "outputs": [],
   "source": [
    "sharpe_out_of_sample = defaultdict(lambda: defaultdict(list))\n",
    "return_out_of_sample = defaultdict(lambda: defaultdict(list))\n",
    "volatility_out_of_sample = defaultdict(lambda: defaultdict(list))"
   ]
  },
  {
   "cell_type": "code",
   "execution_count": 109,
   "id": "95f8a3f8",
   "metadata": {},
   "outputs": [],
   "source": [
    "for n_stocks in out_of_sample_metrics:\n",
    "    for metrics in out_of_sample_metrics[n_stocks]:\n",
    "        for lambda_reg in metrics:\n",
    "            sharpe_out_of_sample[n_stocks][lambda_reg].append(metrics[lambda_reg]['Sharpe ratio'])\n",
    "            return_out_of_sample[n_stocks][lambda_reg].append(metrics[lambda_reg]['Annual return'])\n",
    "            volatility_out_of_sample[n_stocks][lambda_reg].append(metrics[lambda_reg]['Annual volatility'])"
   ]
  },
  {
   "cell_type": "code",
   "execution_count": 110,
   "id": "03b2a632",
   "metadata": {},
   "outputs": [],
   "source": [
    "avg_sharpe_out_of_sample = defaultdict(lambda: defaultdict(float))\n",
    "avg_return_out_of_sample = defaultdict(lambda: defaultdict(float))\n",
    "avg_volatility_out_of_sample = defaultdict(lambda: defaultdict(float))\n",
    "avg_sharpe_in_sample = defaultdict(lambda: defaultdict(float))\n",
    "avg_return_in_sample = defaultdict(lambda: defaultdict(float))\n",
    "avg_volatility_in_sample = defaultdict(lambda: defaultdict(float))\n",
    "\n",
    "for n_stocks in sharpe_out_of_sample:\n",
    "    for lambda_reg in sharpe_out_of_sample[n_stocks]:\n",
    "        avg_sharpe_out_of_sample[n_stocks][round(lambda_reg, 2)] = np.array(sharpe_out_of_sample[n_stocks][lambda_reg]).mean()\n",
    "        avg_sharpe_in_sample[n_stocks][round(lambda_reg, 2)] = np.array(sharpe_in_sample[n_stocks][lambda_reg]).mean()\n",
    "        avg_return_out_of_sample[n_stocks][round(lambda_reg, 2)] = np.array(return_out_of_sample[n_stocks][lambda_reg]).mean()\n",
    "        avg_return_in_sample[n_stocks][round(lambda_reg, 2)] = np.array(return_in_sample[n_stocks][lambda_reg]).mean()\n",
    "        avg_volatility_out_of_sample[n_stocks][round(lambda_reg, 2)] = np.array(volatility_out_of_sample[n_stocks][lambda_reg]).mean()\n",
    "        avg_volatility_in_sample[n_stocks][round(lambda_reg, 2)] = np.array(volatility_in_sample[n_stocks][lambda_reg]).mean()"
   ]
  },
  {
   "cell_type": "markdown",
   "id": "dd7ea69a",
   "metadata": {},
   "source": [
    "## num_stocks: 5"
   ]
  },
  {
   "cell_type": "code",
   "execution_count": 111,
   "id": "79c4dc63",
   "metadata": {},
   "outputs": [],
   "source": [
    "n_stocks = 5"
   ]
  },
  {
   "cell_type": "code",
   "execution_count": 112,
   "id": "906cae35",
   "metadata": {},
   "outputs": [
    {
     "data": {
      "image/png": "[encoded data removed]",
      "text/plain": [
       "<Figure size 432x288 with 1 Axes>"
      ]
     },
     "metadata": {
      "needs_background": "light"
     },
     "output_type": "display_data"
    },
    {
     "data": {
      "text/plain": [
       "<Figure size 432x288 with 0 Axes>"
      ]
     },
     "metadata": {},
     "output_type": "display_data"
    }
   ],
   "source": [
    "d = {'average in-sample return': avg_return_in_sample[n_stocks],\n",
    "     'average out-of-sample return': avg_return_out_of_sample[n_stocks]\n",
    "    }\n",
    "\n",
    "pd.DataFrame(d).plot(kind='bar')\n",
    "fig = plt.gcf()\n",
    "plt.xlabel('lambda-regulariser:\\ntolerance to subclusters variance decay')\n",
    "plt.show()\n",
    "plt.draw()"
   ]
  },
  {
   "cell_type": "code",
   "execution_count": 113,
   "id": "a501a28e",
   "metadata": {},
   "outputs": [
    {
     "data": {
      "image/png": "[encoded data removed]",
      "text/plain": [
       "<Figure size 432x288 with 1 Axes>"
      ]
     },
     "metadata": {
      "needs_background": "light"
     },
     "output_type": "display_data"
    }
   ],
   "source": [
    "d = {'average in-sample volatility': avg_volatility_in_sample[n_stocks],\n",
    "     'average out-of-sample volatility': avg_volatility_out_of_sample[n_stocks]\n",
    "    }\n",
    "\n",
    "pd.DataFrame(d).plot(kind='bar')\n",
    "fig = plt.gcf()\n",
    "plt.xlabel('lambda-regulariser')\n",
    "plt.show()"
   ]
  },
  {
   "cell_type": "code",
   "execution_count": 114,
   "id": "b988b0e9",
   "metadata": {},
   "outputs": [
    {
     "data": {
      "image/png": "[encoded data removed]",
      "text/plain": [
       "<Figure size 432x288 with 1 Axes>"
      ]
     },
     "metadata": {
      "needs_background": "light"
     },
     "output_type": "display_data"
    }
   ],
   "source": [
    "d = {'average in-sample Sharpe-ratio': avg_sharpe_in_sample[n_stocks],\n",
    "     'average out-of-sample Sharpe-ratio': avg_sharpe_out_of_sample[n_stocks]\n",
    "    }\n",
    "\n",
    "pd.DataFrame(d).plot(kind='bar')\n",
    "fig = plt.gcf()\n",
    "plt.xlabel('lambda-regulariser')\n",
    "plt.show()"
   ]
  },
  {
   "cell_type": "markdown",
   "id": "d2b321de",
   "metadata": {},
   "source": [
    "## num_stocks: 15"
   ]
  },
  {
   "cell_type": "code",
   "execution_count": 119,
   "id": "cac9f87c",
   "metadata": {},
   "outputs": [],
   "source": [
    "n_stocks = 15"
   ]
  },
  {
   "cell_type": "code",
   "execution_count": 120,
   "id": "505825a1",
   "metadata": {},
   "outputs": [
    {
     "data": {
      "image/png": "[encoded data removed]",
      "text/plain": [
       "<Figure size 432x288 with 1 Axes>"
      ]
     },
     "metadata": {
      "needs_background": "light"
     },
     "output_type": "display_data"
    },
    {
     "data": {
      "text/plain": [
       "<Figure size 432x288 with 0 Axes>"
      ]
     },
     "metadata": {},
     "output_type": "display_data"
    }
   ],
   "source": [
    "d = {'average in-sample return': avg_return_in_sample[n_stocks],\n",
    "     'average out-of-sample return': avg_return_out_of_sample[n_stocks]\n",
    "    }\n",
    "\n",
    "pd.DataFrame(d).plot(kind='bar')\n",
    "fig = plt.gcf()\n",
    "plt.xlabel('lambda-regulariser:\\ntolerance to subclusters variance decay')\n",
    "plt.show()\n",
    "plt.draw()"
   ]
  },
  {
   "cell_type": "code",
   "execution_count": 121,
   "id": "b6f40daa",
   "metadata": {},
   "outputs": [
    {
     "data": {
      "image/png": "[encoded data removed]",
      "text/plain": [
       "<Figure size 432x288 with 1 Axes>"
      ]
     },
     "metadata": {
      "needs_background": "light"
     },
     "output_type": "display_data"
    }
   ],
   "source": [
    "d = {'average in-sample volatility': avg_volatility_in_sample[n_stocks],\n",
    "     'average out-of-sample volatility': avg_volatility_out_of_sample[n_stocks]\n",
    "    }\n",
    "\n",
    "pd.DataFrame(d).plot(kind='bar')\n",
    "fig = plt.gcf()\n",
    "plt.xlabel('lambda-regulariser')\n",
    "plt.show()"
   ]
  },
  {
   "cell_type": "code",
   "execution_count": 122,
   "id": "a8655451",
   "metadata": {},
   "outputs": [
    {
     "data": {
      "image/png": "[encoded data removed]",
      "text/plain": [
       "<Figure size 432x288 with 1 Axes>"
      ]
     },
     "metadata": {
      "needs_background": "light"
     },
     "output_type": "display_data"
    }
   ],
   "source": [
    "d = {'average in-sample Sharpe-ratio': avg_sharpe_in_sample[n_stocks],\n",
    "     'average out-of-sample Sharpe-ratio': avg_sharpe_out_of_sample[n_stocks]\n",
    "    }\n",
    "\n",
    "pd.DataFrame(d).plot(kind='bar')\n",
    "fig = plt.gcf()\n",
    "plt.xlabel('lambda-regulariser')\n",
    "plt.show()"
   ]
  },
  {
   "cell_type": "markdown",
   "id": "3c001b8f",
   "metadata": {},
   "source": [
    "## num_stocks: 25"
   ]
  },
  {
   "cell_type": "code",
   "execution_count": 127,
   "id": "8ccfb4ab",
   "metadata": {},
   "outputs": [],
   "source": [
    "n_stocks = 25"
   ]
  },
  {
   "cell_type": "code",
   "execution_count": 128,
   "id": "242afdf7",
   "metadata": {},
   "outputs": [
    {
     "data": {
      "image/png": "[encoded data removed]",
      "text/plain": [
       "<Figure size 432x288 with 1 Axes>"
      ]
     },
     "metadata": {
      "needs_background": "light"
     },
     "output_type": "display_data"
    },
    {
     "data": {
      "text/plain": [
       "<Figure size 432x288 with 0 Axes>"
      ]
     },
     "metadata": {},
     "output_type": "display_data"
    }
   ],
   "source": [
    "d = {'average in-sample return': avg_return_in_sample[n_stocks],\n",
    "     'average out-of-sample return': avg_return_out_of_sample[n_stocks]\n",
    "    }\n",
    "\n",
    "pd.DataFrame(d).plot(kind='bar')\n",
    "fig = plt.gcf()\n",
    "plt.xlabel('lambda-regulariser:\\ntolerance to subclusters variance decay')\n",
    "plt.show()\n",
    "plt.draw()"
   ]
  },
  {
   "cell_type": "code",
   "execution_count": 129,
   "id": "e6d1d031",
   "metadata": {},
   "outputs": [
    {
     "data": {
      "image/png": "[encoded data removed]",
      "text/plain": [
       "<Figure size 432x288 with 1 Axes>"
      ]
     },
     "metadata": {
      "needs_background": "light"
     },
     "output_type": "display_data"
    }
   ],
   "source": [
    "d = {'average in-sample volatility': avg_volatility_in_sample[n_stocks],\n",
    "     'average out-of-sample volatility': avg_volatility_out_of_sample[n_stocks]\n",
    "    }\n",
    "\n",
    "pd.DataFrame(d).plot(kind='bar')\n",
    "fig = plt.gcf()\n",
    "plt.xlabel('lambda-regulariser')\n",
    "plt.show()"
   ]
  },
  {
   "cell_type": "code",
   "execution_count": 130,
   "id": "764dda20",
   "metadata": {},
   "outputs": [
    {
     "data": {
      "image/png": "[encoded data removed]",
      "text/plain": [
       "<Figure size 432x288 with 1 Axes>"
      ]
     },
     "metadata": {
      "needs_background": "light"
     },
     "output_type": "display_data"
    }
   ],
   "source": [
    "d = {'average in-sample Sharpe-ratio': avg_sharpe_in_sample[n_stocks],\n",
    "     'average out-of-sample Sharpe-ratio': avg_sharpe_out_of_sample[n_stocks]\n",
    "    }\n",
    "\n",
    "pd.DataFrame(d).plot(kind='bar')\n",
    "fig = plt.gcf()\n",
    "plt.xlabel('lambda-regulariser')\n",
    "plt.show()"
   ]
  },
  {
   "cell_type": "code",
   "execution_count": null,
   "id": "f60f7377",
   "metadata": {},
   "outputs": [],
   "source": []
  }
 ],
 "metadata": {
  "kernelspec": {
   "display_name": "Python 3",
   "language": "python",
   "name": "python3"
  },
  "language_info": {
   "codemirror_mode": {
    "name": "ipython",
    "version": 3
   },
   "file_extension": ".py",
   "mimetype": "text/x-python",
   "name": "python",
   "nbconvert_exporter": "python",
   "pygments_lexer": "ipython3",
   "version": "3.8.8"
  }
 },
 "nbformat": 4,
 "nbformat_minor": 5
}
